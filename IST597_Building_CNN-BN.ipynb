{
  "nbformat": 4,
  "nbformat_minor": 0,
  "metadata": {
    "colab": {
      "name": "IST597_Building_CNN.ipynb",
      "provenance": [],
      "collapsed_sections": []
    },
    "kernelspec": {
      "name": "python3",
      "display_name": "Python 3"
    },
    "language_info": {
      "name": "python"
    },
    "accelerator": "GPU"
  },
  "cells": [
    {
      "cell_type": "markdown",
      "source": [
        "# In this tutorial we will build basic CNN for image classification.\n",
        "Author :- Ankur Mali\n",
        "* We will define our model and learn how to use keras module to build custom layers\n",
        "* We will also design our own training loop, that is identical to model.fit in Keras.\n",
        "* The aim of this excercise is to teach, how to use exisiting Tensorflow API to construct our own module and integrate it with tf.keras API."
      ],
      "metadata": {
        "id": "iEL0LqOvNctE"
      }
    },
    {
      "cell_type": "code",
      "execution_count": 114,
      "metadata": {
        "id": "SK3DMbzThNBc"
      },
      "outputs": [],
      "source": [
        "import tensorflow as tf\n",
        "import numpy as np\n",
        "import matplotlib.pyplot as plt\n",
        "\n",
        "np.random.seed(5510)"
      ]
    },
    {
      "cell_type": "markdown",
      "source": [
        "#Things to do\n",
        "* Remember to Normalize your data and create validation split from train set.\n",
        "* Learn about tf.data, tf.slices and also tf.records"
      ],
      "metadata": {
        "id": "j3wnZ5tvOTCV"
      }
    },
    {
      "cell_type": "code",
      "source": [
        "(x_train, y_train), (x_test, y_test) = tf.keras.datasets.mnist.load_data()\n",
        "x_val = x_train[50000:60000]\n",
        "x_train = x_train[0:50000]\n",
        "y_val = y_train[50000:60000]\n",
        "y_train = y_train[0:50000]\n",
        "x_train = x_train.astype(np.float32).reshape(-1,28,28,1) / 255.0\n",
        "x_val = x_val.astype(np.float32).reshape(-1,28,28,1) / 255.0\n",
        "x_test = x_test.astype(np.float32).reshape(-1,28,28,1) / 255.0\n",
        "y_train = tf.one_hot(y_train, depth=10)\n",
        "y_val = tf.one_hot(y_val, depth=10)\n",
        "y_test = tf.one_hot(y_test, depth=10)\n",
        "print(x_train.shape)\n",
        "print(x_test.shape)\n",
        "print(x_val.shape)\n",
        "train_dataset = tf.data.Dataset.from_tensor_slices((x_train, y_train))\n",
        "train_dataset = train_dataset.shuffle(buffer_size=1024).batch(128)\n",
        "train_dataset_full = train_dataset.shuffle(buffer_size=1024).batch(len(train_dataset))\n",
        "val_dataset = tf.data.Dataset.from_tensor_slices((x_val, y_val))\n",
        "val_dataset = val_dataset.batch(128)\n",
        "test_dataset = tf.data.Dataset.from_tensor_slices((x_test, y_test))\n",
        "test_dataset = test_dataset.batch(128)\n",
        "print(len(train_dataset))\n",
        "print(len(test_dataset))"
      ],
      "metadata": {
        "colab": {
          "base_uri": "https://localhost:8080/"
        },
        "id": "WWo3ho3whTWU",
        "outputId": "2288a9df-7f5c-4e4b-8754-b450cd85d436"
      },
      "execution_count": 115,
      "outputs": [
        {
          "output_type": "stream",
          "name": "stdout",
          "text": [
            "(50000, 28, 28, 1)\n",
            "(10000, 28, 28, 1)\n",
            "(10000, 28, 28, 1)\n",
            "391\n",
            "79\n"
          ]
        }
      ]
    },
    {
      "cell_type": "markdown",
      "source": [
        "# Create your custom CNN class\n",
        "* Convolution layers has 4D weights of size (h,w,input_feature, output_feature), where h=height of your kernel and w = width of our kernel. If you add batches then it is 5D.\n",
        "* Now your model will convolve across your input feature map with kernel and create output feature map, that is then passed to next layer.\n",
        "* As we have learned in our prior class, to initialize your weights, we use tf.Variable(weight_init(size)), tf.keras.layers.Conv2D will do this for you. Play with the function and see how it works for your problem.\n",
        "* Few important concepts, learn to save your model after every k epochs and start re-training from last checkpoint. This is very useful, and you don't need to retrain your model from scratch.\n"
      ],
      "metadata": {
        "id": "Rs9r9QDvO48Y"
      }
    },
    {
      "cell_type": "code",
      "source": [
        "class Batch_Normalization(tf.keras.layers.Layer):\n",
        "    def __init__(self, dim, epsilon=10e-6, momentum=0.9):\n",
        "        super(Batch_Normalization, self).__init__()\n",
        "\n",
        "        self.epsilon = epsilon\n",
        "        self.momentum = momentum\n",
        "        self.dim = dim\n",
        "        self.it_call = 0\n",
        "        self.batch_size = 0\n",
        "\n",
        "        self.mean = self.add_weight(\"mean\", shape=[self.dim,], \n",
        "                                initializer=\"zeros\",\n",
        "                                trainable=False)\n",
        "        self.var = self.add_weight(\"variance\", shape=[self.dim,], \n",
        "                                   initializer=\"zeros\",\n",
        "                                   trainable=False)\n",
        "\n",
        "        self.gamma = self.add_weight(\"gamma\", shape=[1, self.dim],\n",
        "                                     initializer=\"random_normal\",\n",
        "                                     trainable=True)\n",
        "        self.beta = self.add_weight(\"beta\", shape=[1, self.dim],\n",
        "                                    initializer=\"random_normal\",\n",
        "                                    trainable=True)\n",
        "        #print(\"@@@@@@@@@@@\")\n",
        "        \n",
        "    \n",
        "    def call(self, inputs, is_training=True):\n",
        "\n",
        "        self.it_call += 1\n",
        "\n",
        "        if is_training:   \n",
        "            if self.batch_size == 0:\n",
        "                self.batch_size = inputs.shape[0]\n",
        "            \n",
        "            batch_mean = tf.math.reduce_mean(inputs, axis=(0,1,2))\n",
        "            batch_var = tf.math.reduce_variance(inputs, axis=(0,1,2))\n",
        "            \n",
        "            normalized_inputs = tf.math.divide((inputs - batch_mean), tf.math.sqrt(batch_var + self.epsilon))\n",
        "            batch_inputs = tf.math.multiply(self.gamma, normalized_inputs) + self.beta\n",
        "\n",
        "    \n",
        "            if inputs.shape[0] == self.batch_size:\n",
        "                running_mean = batch_mean\n",
        "                running_var = batch_var\n",
        "            else:\n",
        "                \n",
        "                running_mean = batch_mean / inputs.shape[0] * self.batch_size\n",
        "                running_var = batch_var / inputs.shape[0] * self.batch_size\n",
        "            \n",
        "            cur_mean = running_mean * (self.momentum / self.it_call) + self.mean * (1 - (self.momentum/self.it_call))\n",
        "            self.mean.assign(cur_mean)\n",
        "            cur_var = running_var * (self.momentum / self.it_call) + self.var * (1 - (self.momentum/self.it_call))\n",
        "            self.var.assign(cur_var)\n",
        "\n",
        "\n",
        "        else: \n",
        "            normalized_inputs = tf.math.divide((inputs - self.mean), tf.math.sqrt(self.var + self.epsilon))\n",
        "            batch_inputs = tf.math.multiply(self.gamma, normalized_inputs) + self.beta\n",
        "        #print(\"$$$$$$$$$\")\n",
        "        return batch_inputs"
      ],
      "metadata": {
        "id": "NtGC8f9o0DpK"
      },
      "execution_count": 116,
      "outputs": []
    },
    {
      "cell_type": "code",
      "source": [
        ""
      ],
      "metadata": {
        "id": "ANjNOWIC6HBh"
      },
      "execution_count": 74,
      "outputs": []
    },
    {
      "cell_type": "code",
      "source": [
        ""
      ],
      "metadata": {
        "id": "MXV8nLP8yrLI"
      },
      "execution_count": 74,
      "outputs": []
    },
    {
      "cell_type": "code",
      "source": [
        "class ImageRecognitionCNN(tf.keras.Model):\n",
        "    \n",
        "    def __init__(self, num_classes, device='cpu:0', checkpoint_directory=None):\n",
        "        ''' Define the parameterized layers used during forward-pass, the device\n",
        "            where you would like to run the computation (GPU, TPU, CPU) on and the checkpoint\n",
        "            directory.\n",
        "            \n",
        "            Args:\n",
        "                num_classes: the number of labels in the network.\n",
        "                device: string, 'cpu:n' or 'gpu:n' (n can vary). Default, 'cpu:0'.\n",
        "                checkpoint_directory: the directory where you would like to save or \n",
        "                                      restore a model.\n",
        "        ''' \n",
        "        super(ImageRecognitionCNN, self).__init__()\n",
        "        \n",
        "        # Initialize layers\n",
        "        self.conv1 = tf.keras.layers.Conv2D(64, 3, padding='same', activation=None)\n",
        "        self.conv2 = tf.keras.layers.Conv2D(64, 3,padding='same', activation=None)\n",
        "        self.pool1 = tf.keras.layers.MaxPool2D()\n",
        "        self.conv3 = tf.keras.layers.Conv2D(64, 3, padding='same', activation=None)\n",
        "        self.conv4 = tf.keras.layers.Conv2D(64, 3, padding='same', activation=None)\n",
        "        # self.pool2 = tf.keras.layers.MaxPool2D()\n",
        "        # self.conv5 = tf.keras.layers.Conv2D(64, 3, padding='same', activation=None)\n",
        "        # self.pool2 = tf.keras.layers.MaxPool2D()\n",
        "        # self.conv6 = tf.keras.layers.Conv2D(64, 3, 2, padding='same', activation=None)\n",
        "        # self.conv7 = tf.keras.layers.Conv2D(64, 1, padding='same', activation=None)\n",
        "        self.conv8 = tf.keras.layers.Conv2D(num_classes, 1, padding='same', activation=None)\n",
        "        self.batchNorm = Batch_Normalization(64)\n",
        "        \n",
        "        # Define the device \n",
        "        self.device = device\n",
        "        \n",
        "        # Define the checkpoint directory\n",
        "        self.checkpoint_directory = checkpoint_directory\n",
        "        self.acc = tf.keras.metrics.Accuracy()\n",
        "\n",
        "\n",
        "    def predict(self, images, training):\n",
        "        \"\"\" Predicts the probability of each class, based on the input sample.\n",
        "            \n",
        "            Args:\n",
        "                images: 4D tensor. Either an image or a batch of images.\n",
        "                training: Boolean. Either the network is predicting in\n",
        "                          training mode or not.\n",
        "        \"\"\"\n",
        "        x = self.conv1(images)\n",
        "\n",
        "        x = self.batchNorm(x)\n",
        "        x = tf.nn.relu(x)\n",
        "        x = self.pool1(x)\n",
        "        x = self.conv2(x)\n",
        "        x = self.batchNorm(x)\n",
        "        x = tf.nn.relu(x)\n",
        "        x = self.pool1(x)\n",
        "        x = self.conv3(x)\n",
        "        x = self.batchNorm(x)\n",
        "        x = tf.nn.relu(x)\n",
        "        x = self.pool1(x)\n",
        "        x = self.conv4(x)\n",
        "        x = self.batchNorm(x)\n",
        "        x = tf.nn.relu(x)\n",
        "        x = self.pool1(x)\n",
        "\n",
        "        x = self.conv8(x)\n",
        "        \n",
        "        x = tf.reshape(x, (-1, 1, 10)) #We need to reshape the shape to 10\n",
        "        return x\n",
        "\n",
        "\n",
        "\n",
        "    def loss_fn(self, images, target, training):\n",
        "        \"\"\" Defines the loss function used during \n",
        "            training.         \n",
        "        \"\"\"\n",
        "        preds = self.predict(images, training)\n",
        "        #print(preds.shape)\n",
        "        #print(target.shape)\n",
        "        loss = tf.nn.softmax_cross_entropy_with_logits(labels=target, logits=preds)\n",
        "        return loss\n",
        "\n",
        "\n",
        "    def grads_fn(self, images, target, training):\n",
        "        \"\"\" Dynamically computes the gradients of the loss value\n",
        "            with respect to the parameters of the model, in each\n",
        "            forward pass.\n",
        "        \"\"\"\n",
        "        with tf.GradientTape() as tape:\n",
        "            loss = self.loss_fn(images, target, training)\n",
        "        return tape.gradient(loss, self.variables)\n",
        "    \n",
        "    def restore_model(self):\n",
        "        \"\"\" Function to restore trained model.\n",
        "        \"\"\"\n",
        "        with tf.device(self.device):\n",
        "            # Run the model once to initialize variables\n",
        "            dummy_input = tf.constant(tf.zeros((1,48,48,1)))\n",
        "            dummy_pred = self.predict(dummy_input, training=False)\n",
        "            # Restore the variables of the model\n",
        "            saver = tf.Saver(self.variables)\n",
        "            saver.restore(tf.train.latest_checkpoint\n",
        "                          (self.checkpoint_directory))\n",
        "    \n",
        "    def save_model(self, global_step=0):\n",
        "        \"\"\" Function to save trained model.\n",
        "        \"\"\"\n",
        "        tf.Saver(self.variables).save(self.checkpoint_directory, \n",
        "                                       global_step=global_step)   \n",
        "    \n",
        "    #def compute_accuracy(self, input_data):\n",
        "\n",
        "      #\"\"\" Compute the accuracy on the input data.\n",
        "    #     \"\"\"\n",
        "#with tf.device(self.device):\n",
        "    #         #acc = tf.metrics.Accuracy()\n",
        "    #         for step ,(images, targets) in enumerate(input_data):\n",
        "    #             # Predict the probability of each class\n",
        "    #             #print(targets.shape)\n",
        "    #             logits = self.predict(images, training=False)\n",
        "    #             # Select the class with the highest probability\n",
        "    #             #print(logits.shape)\n",
        "    #             logits = tf.nn.softmax(logits)\n",
        "    #             logits = tf.reshape(logits, [-1, 10])\n",
        "    #             targets = tf.reshape(targets, [-1,10])\n",
        "    #             preds = tf.argmax(logits, axis=1)\n",
        "                \n",
        "    #             #m1.update_state\n",
        "    #             # Compute the accuracy\n",
        "    #             #print(preds.shape)\n",
        "    #             acc(tf.reshape(targets, preds))\n",
        "    #     return acc\n",
        "\n",
        "    def compute_accuracy_2(self, images, targets):\n",
        "        \"\"\" Compute the accuracy on the input data.\n",
        "        \"\"\"\n",
        "        with tf.device(self.device):\n",
        "            \n",
        "            # Predict the probability of each class\n",
        "            logits = self.predict(images, training=False)\n",
        "            # Select the class with the highest probability\n",
        "            \n",
        "            logits = tf.nn.softmax(logits)\n",
        "            logits = tf.reshape(logits, [-1, 10])\n",
        "            targets = tf.reshape(targets, [-1,10])\n",
        "            preds = tf.argmax(logits, axis=1)\n",
        "            goal = tf.argmax(targets, axis=1)\n",
        "            self.acc.update_state(goal, preds)\n",
        "            # Compute the accuracy\n",
        "            result = self.acc.result().numpy()\n",
        "        return result\n",
        "\n",
        "  \n",
        "    def fit_fc(self, training_data, eval_data, optimizer, num_epochs=500, \n",
        "            early_stopping_rounds=10, verbose=10, train_from_scratch=False):\n",
        "        \"\"\" Function to train the model, using the selected optimizer and\n",
        "            for the desired number of epochs. You can either train from scratch\n",
        "            or load the latest model trained. Early stopping is used in order to\n",
        "            mitigate the risk of overfitting the network.\n",
        "            \n",
        "            Args:\n",
        "                training_data: the data you would like to train the model on.\n",
        "                                Must be in the tf.data.Dataset format.\n",
        "                eval_data: the data you would like to evaluate the model on.\n",
        "                            Must be in the tf.data.Dataset format.\n",
        "                optimizer: the optimizer used during training.\n",
        "                num_epochs: the maximum number of iterations you would like to \n",
        "                            train the model.\n",
        "                early_stopping_rounds: stop training if the loss on the eval \n",
        "                                       dataset does not decrease after n epochs.\n",
        "                verbose: int. Specify how often to print the loss value of the network.\n",
        "                train_from_scratch: boolean. Whether to initialize variables of the\n",
        "                                    the last trained model or initialize them\n",
        "                                    randomly.\n",
        "        \"\"\" \n",
        "    \n",
        "        if train_from_scratch==False:\n",
        "            self.restore_model()\n",
        "        \n",
        "        # Initialize best loss. This variable will store the lowest loss on the\n",
        "        # eval dataset.\n",
        "        best_loss = 999\n",
        "        \n",
        "        # Initialize classes to update the mean loss of train and eval\n",
        "        train_loss = tf.keras.metrics.Mean('train_loss')\n",
        "        eval_loss = tf.keras.metrics.Mean('eval_loss')\n",
        "        acc_train = tf.keras.metrics.Mean('train_acc')\n",
        "        acc_val = tf.keras.metrics.Mean('val_acc')\n",
        "        \n",
        "        # Initialize dictionary to store the loss history\n",
        "        self.history = {}\n",
        "        self.history['train_loss'] = []\n",
        "        self.history['eval_loss'] = []\n",
        "        self.history['train_acc'] = []\n",
        "        self.history['val_acc'] = []\n",
        "        \n",
        "        # Begin training\n",
        "        with tf.device(self.device):\n",
        "            for i in range(num_epochs):\n",
        "                # Training with gradient descent\n",
        "                #training_data_x = training_data.shuffle(buffer_size=1024).batch(128)\n",
        "                for step, (images, target) in enumerate(training_data):\n",
        "                    grads = self.grads_fn(images, target, True)\n",
        "                    optimizer.apply_gradients(zip(grads, self.variables))\n",
        "                    \n",
        "                # Compute the loss on the training data after one epoch\n",
        "                for step, (images, target) in enumerate(training_data):\n",
        "                    loss = self.loss_fn(images, target, False)\n",
        "                    accuracy = self.compute_accuracy_2(images,target)\n",
        "                    acc_train(accuracy)\n",
        "                    train_loss(loss)\n",
        "                self.history['train_loss'].append(train_loss.result().numpy())\n",
        "                self.history['train_acc'].append(acc_train.result().numpy())\n",
        "                # Reset metrics\n",
        "                train_loss.reset_states()\n",
        "                acc_train.reset_states()\n",
        "                \n",
        "                # Compute the loss on the eval data after one epoch\n",
        "                for step, (images, target) in enumerate(eval_data):\n",
        "                    loss = self.loss_fn(images, target, False)\n",
        "                    accuracy = self.compute_accuracy_2(images,target)\n",
        "                    acc_val(accuracy)\n",
        "                    eval_loss(loss)\n",
        "                self.history['eval_loss'].append(eval_loss.result().numpy())\n",
        "                self.history['val_acc'].append(acc_val.result().numpy())\n",
        "                # Reset metrics\n",
        "                eval_loss.reset_states()\n",
        "                acc_val.reset_states()\n",
        "                \n",
        "                # Print train and eval losses\n",
        "                if (i==0) | ((i+1)%verbose==0):\n",
        "                    print('Train loss at epoch %d: ' %(i+1), self.history['train_loss'][-1])\n",
        "                    print('Train Acc at epoch %d: ' %(i+1), self.history['train_acc'][-1])\n",
        "                    \n",
        "                    print('Eval loss at epoch %d: ' %(i+1), self.history['eval_loss'][-1])\n",
        "                    print('Eval Acc at epoch %d: ' %(i+1), self.history['val_acc'][-1])\n",
        "\n",
        "                # Check for early stopping\n",
        "                if self.history['eval_loss'][-1]<best_loss:\n",
        "                    best_loss = self.history['eval_loss'][-1]\n",
        "                    count = early_stopping_rounds\n",
        "                else:\n",
        "                    count -= 1\n",
        "                if count==0:\n",
        "                    break"
      ],
      "metadata": {
        "id": "KGjSk_lMhb7V"
      },
      "execution_count": 75,
      "outputs": []
    },
    {
      "cell_type": "code",
      "source": [
        "# Specify the path where you want to save/restore the trained variables.\n",
        "checkpoint_directory = 'models_checkpoints/mnist/'\n",
        "\n",
        "# Use the GPU if available.\n",
        "device = 'gpu:0'\n",
        "\n",
        "# Define optimizer.\n",
        "optimizer = tf.compat.v1.train.AdamOptimizer(learning_rate=1e-4)\n",
        "\n",
        "# Instantiate model. This doesn't initialize the variables yet.\n",
        "model = ImageRecognitionCNN(num_classes=10, device=device, \n",
        "                              checkpoint_directory=checkpoint_directory)\n",
        "\n",
        "#model = ImageRecognitionCNN(num_classes=7, device=device)"
      ],
      "metadata": {
        "id": "4a-iuiHIypry"
      },
      "execution_count": 76,
      "outputs": []
    },
    {
      "cell_type": "code",
      "source": [
        "# Train model\n",
        "isittraining =True\n",
        "model.fit_fc(train_dataset, val_dataset, optimizer, num_epochs=15, \n",
        "          early_stopping_rounds=2, verbose=2, train_from_scratch=True)"
      ],
      "metadata": {
        "colab": {
          "base_uri": "https://localhost:8080/"
        },
        "id": "exUkL_OBytBw",
        "outputId": "56d87f67-f370-4ea0-ec01-ea3ca6964333"
      },
      "execution_count": 77,
      "outputs": [
        {
          "output_type": "stream",
          "name": "stdout",
          "text": [
            "Train loss at epoch 1:  1.2922633\n",
            "Train Acc at epoch 1:  0.93562436\n",
            "Eval loss at epoch 1:  1.2734215\n",
            "Eval Acc at epoch 1:  0.9358865\n",
            "Train loss at epoch 2:  0.5431793\n",
            "Train Acc at epoch 2:  0.945502\n",
            "Eval loss at epoch 2:  0.52076757\n",
            "Eval Acc at epoch 2:  0.95177525\n",
            "Train loss at epoch 4:  0.16068445\n",
            "Train Acc at epoch 4:  0.96385956\n",
            "Eval loss at epoch 4:  0.15145473\n",
            "Eval Acc at epoch 4:  0.9664048\n",
            "Train loss at epoch 6:  0.08110071\n",
            "Train Acc at epoch 6:  0.9722128\n",
            "Eval loss at epoch 6:  0.079782404\n",
            "Eval Acc at epoch 6:  0.97366536\n",
            "Train loss at epoch 8:  0.04869705\n",
            "Train Acc at epoch 8:  0.97717226\n",
            "Eval loss at epoch 8:  0.05350789\n",
            "Eval Acc at epoch 8:  0.97814876\n",
            "Train loss at epoch 10:  0.033444755\n",
            "Train Acc at epoch 10:  0.9805831\n",
            "Eval loss at epoch 10:  0.04181576\n",
            "Eval Acc at epoch 10:  0.9812765\n",
            "Train loss at epoch 12:  0.023536766\n",
            "Train Acc at epoch 12:  0.98309976\n",
            "Eval loss at epoch 12:  0.035591427\n",
            "Eval Acc at epoch 12:  0.9836437\n",
            "Train loss at epoch 14:  0.016876753\n",
            "Train Acc at epoch 14:  0.98504615\n",
            "Eval loss at epoch 14:  0.03175682\n",
            "Eval Acc at epoch 14:  0.98547906\n"
          ]
        }
      ]
    },
    {
      "cell_type": "code",
      "source": [
        ""
      ],
      "metadata": {
        "id": "iBJuwlqkysq9"
      },
      "execution_count": 77,
      "outputs": []
    },
    {
      "cell_type": "code",
      "source": [
        "isittraining = False\n",
        "test_acc = []\n",
        "testacc = tf.keras.metrics.Mean('test_acc')\n",
        "for step, (images, target) in enumerate(test_dataset):\n",
        "  loss = model.loss_fn(images, target, isittraining)\n",
        "  accuracy = model.compute_accuracy_2(images,target)\n",
        "  testacc(accuracy)\n",
        "  test_acc.append(testacc.result().numpy())\n",
        "\n",
        "  testacc.reset_states()\n",
        "print(np.mean(test_acc))"
      ],
      "metadata": {
        "colab": {
          "base_uri": "https://localhost:8080/"
        },
        "id": "5zS_WAxc0JhZ",
        "outputId": "163f4044-425d-467e-c70d-8a0cab6e20c4"
      },
      "execution_count": 78,
      "outputs": [
        {
          "output_type": "stream",
          "name": "stdout",
          "text": [
            "0.9863353\n"
          ]
        }
      ]
    },
    {
      "cell_type": "code",
      "source": [
        "loss_train = model.history['train_loss']\n",
        "loss_val = model.history['eval_loss']\n",
        "epochs = range(len(model.history['eval_loss']))\n",
        "plt.plot(epochs, loss_train, 'g', label='train_loss')\n",
        "plt.plot(epochs, loss_val, 'b', label='validation loss')\n",
        "plt.title('Training and Validation loss')\n",
        "plt.xlabel('Epochs')\n",
        "plt.ylabel('Loss')\n",
        "plt.legend()\n",
        "plt.show()"
      ],
      "metadata": {
        "colab": {
          "base_uri": "https://localhost:8080/",
          "height": 295
        },
        "id": "cLf-D_PM23GL",
        "outputId": "b699a310-225f-4937-a2a5-c8d311acc565"
      },
      "execution_count": 79,
      "outputs": [
        {
          "output_type": "display_data",
          "data": {
            "text/plain": [
              "<Figure size 432x288 with 1 Axes>"
            ],
            "image/png": "[encoded data removed]"
          },
          "metadata": {
            "needs_background": "light"
          }
        }
      ]
    },
    {
      "cell_type": "code",
      "source": [
        "class ImageRecognitionCNN(tf.keras.Model):\n",
        "    \n",
        "    def __init__(self, num_classes, device='cpu:0', checkpoint_directory=None):\n",
        "        ''' Define the parameterized layers used during forward-pass, the device\n",
        "            where you would like to run the computation (GPU, TPU, CPU) on and the checkpoint\n",
        "            directory.\n",
        "            \n",
        "            Args:\n",
        "                num_classes: the number of labels in the network.\n",
        "                device: string, 'cpu:n' or 'gpu:n' (n can vary). Default, 'cpu:0'.\n",
        "                checkpoint_directory: the directory where you would like to save or \n",
        "                                      restore a model.\n",
        "        ''' \n",
        "        super(ImageRecognitionCNN, self).__init__()\n",
        "        \n",
        "        # Initialize layers\n",
        "        self.conv1 = tf.keras.layers.Conv2D(64, 3, padding='same', activation=None)\n",
        "        self.conv2 = tf.keras.layers.Conv2D(64, 3,padding='same', activation=None)\n",
        "        self.pool1 = tf.keras.layers.MaxPool2D()\n",
        "        self.conv3 = tf.keras.layers.Conv2D(64, 3, padding='same', activation=None)\n",
        "        self.conv4 = tf.keras.layers.Conv2D(64, 3, padding='same', activation=None)\n",
        "        # self.pool2 = tf.keras.layers.MaxPool2D()\n",
        "        # self.conv5 = tf.keras.layers.Conv2D(64, 3, padding='same', activation=None)\n",
        "        # self.pool2 = tf.keras.layers.MaxPool2D()\n",
        "        # self.conv6 = tf.keras.layers.Conv2D(64, 3, 2, padding='same', activation=None)\n",
        "        # self.conv7 = tf.keras.layers.Conv2D(64, 1, padding='same', activation=None)\n",
        "        self.conv8 = tf.keras.layers.Conv2D(num_classes, 1, padding='same', activation=None)\n",
        "        self.batch_norm = Batch_Normalization(64)\n",
        "        \n",
        "        # Define the device \n",
        "        self.device = device\n",
        "        \n",
        "        # Define the checkpoint directory\n",
        "        self.checkpoint_directory = checkpoint_directory\n",
        "        self.acc = tf.keras.metrics.Accuracy()\n",
        "\n",
        "\n",
        "    def predict(self, images, training):\n",
        "        \"\"\" Predicts the probability of each class, based on the input sample.\n",
        "            \n",
        "            Args:\n",
        "                images: 4D tensor. Either an image or a batch of images.\n",
        "                training: Boolean. Either the network is predicting in\n",
        "                          training mode or not.\n",
        "        \"\"\"\n",
        "        x = self.conv1(images)\n",
        "        x = tf.nn.relu(x)\n",
        "        x = self.batch_norm(x)\n",
        "        x = self.pool1(x)\n",
        "\n",
        "        x = self.conv2(x)\n",
        "        x = tf.nn.relu(x)\n",
        "        x = self.batch_norm(x)\n",
        "        x = self.pool1(x)\n",
        "\n",
        "        x = self.conv3(x)\n",
        "        x = tf.nn.relu(x)\n",
        "        x = self.batch_norm(x)\n",
        "        x = self.pool1(x)\n",
        "\n",
        "        x = self.conv4(x)\n",
        "        x = tf.nn.relu(x)\n",
        "        x = self.batch_norm(x)\n",
        "        x = self.pool1(x)\n",
        "\n",
        "        x = self.conv8(x)\n",
        "       \n",
        "        x = tf.reshape(x, (-1, 1, 10))\n",
        "     \n",
        "        return x\n",
        "\n",
        "\n",
        "\n",
        "    def loss_fn(self, images, target, training):\n",
        "        \"\"\" Defines the loss function used during \n",
        "            training.         \n",
        "        \"\"\"\n",
        "        preds = self.predict(images, training)\n",
        "        #print(preds.shape)\n",
        "        #print(target.shape)\n",
        "        loss = tf.nn.softmax_cross_entropy_with_logits(labels=target, logits=preds)\n",
        "        return loss\n",
        "\n",
        "\n",
        "    def grads_fn(self, images, target, training):\n",
        "        \"\"\" Dynamically computes the gradients of the loss value\n",
        "            with respect to the parameters of the model, in each\n",
        "            forward pass.\n",
        "        \"\"\"\n",
        "        with tf.GradientTape() as tape:\n",
        "            loss = self.loss_fn(images, target, training)\n",
        "        return tape.gradient(loss, self.variables)\n",
        "    \n",
        "    def restore_model(self):\n",
        "        \"\"\" Function to restore trained model.\n",
        "        \"\"\"\n",
        "        with tf.device(self.device):\n",
        "            # Run the model once to initialize variables\n",
        "            dummy_input = tf.constant(tf.zeros((1,48,48,1)))\n",
        "            dummy_pred = self.predict(dummy_input, training=False)\n",
        "            # Restore the variables of the model\n",
        "            saver = tf.Saver(self.variables)\n",
        "            saver.restore(tf.train.latest_checkpoint\n",
        "                          (self.checkpoint_directory))\n",
        "    \n",
        "    def save_model(self, global_step=0):\n",
        "        \"\"\" Function to save trained model.\n",
        "        \"\"\"\n",
        "        tf.Saver(self.variables).save(self.checkpoint_directory, \n",
        "                                       global_step=global_step)   \n",
        "    \n",
        "    # def compute_accuracy(self, input_data):\n",
        "    #     \"\"\" Compute the accuracy on the input data.\n",
        "    #     \"\"\"\n",
        "    #     with tf.device(self.device):\n",
        "    #         #acc = tf.metrics.Accuracy()\n",
        "    #         for step ,(images, targets) in enumerate(input_data):\n",
        "    #             # Predict the probability of each class\n",
        "    #             #print(targets.shape)\n",
        "    #             logits = self.predict(images, training=False)\n",
        "    #             # Select the class with the highest probability\n",
        "    #             #print(logits.shape)\n",
        "    #             logits = tf.nn.softmax(logits)\n",
        "    #             logits = tf.reshape(logits, [-1, 10])\n",
        "    #             targets = tf.reshape(targets, [-1,10])\n",
        "    #             preds = tf.argmax(logits, axis=1)\n",
        "                \n",
        "    #             #m1.update_state\n",
        "    #             # Compute the accuracy\n",
        "    #             #print(preds.shape)\n",
        "    #             acc(tf.reshape(targets, preds))\n",
        "    #     return acc\n",
        "\n",
        "    def compute_accuracy_2(self, images, targets):\n",
        "        \"\"\" Compute the accuracy on the input data.\n",
        "        \"\"\"\n",
        "        with tf.device(self.device):\n",
        "            \n",
        "            # Predict the probability of each class\n",
        "            logits = self.predict(images, training=False)\n",
        "            # Select the class with the highest probability\n",
        "            \n",
        "            logits = tf.nn.softmax(logits)\n",
        "            logits = tf.reshape(logits, [-1, 10])\n",
        "            targets = tf.reshape(targets, [-1,10])\n",
        "            preds = tf.argmax(logits, axis=1)\n",
        "            goal = tf.argmax(targets, axis=1)\n",
        "            self.acc.update_state(goal, preds)\n",
        "            # Compute the accuracy\n",
        "            result = self.acc.result().numpy()\n",
        "        return result\n",
        "\n",
        "  \n",
        "    def fit_fc(self, training_data, eval_data, optimizer, num_epochs=500, \n",
        "            early_stopping_rounds=10, verbose=10, train_from_scratch=False):\n",
        "        \"\"\" Function to train the model, using the selected optimizer and\n",
        "            for the desired number of epochs. You can either train from scratch\n",
        "            or load the latest model trained. Early stopping is used in order to\n",
        "            mitigate the risk of overfitting the network.\n",
        "            \n",
        "            Args:\n",
        "                training_data: the data you would like to train the model on.\n",
        "                                Must be in the tf.data.Dataset format.\n",
        "                eval_data: the data you would like to evaluate the model on.\n",
        "                            Must be in the tf.data.Dataset format.\n",
        "                optimizer: the optimizer used during training.\n",
        "                num_epochs: the maximum number of iterations you would like to \n",
        "                            train the model.\n",
        "                early_stopping_rounds: stop training if the loss on the eval \n",
        "                                       dataset does not decrease after n epochs.\n",
        "                verbose: int. Specify how often to print the loss value of the network.\n",
        "                train_from_scratch: boolean. Whether to initialize variables of the\n",
        "                                    the last trained model or initialize them\n",
        "                                    randomly.\n",
        "        \"\"\" \n",
        "    \n",
        "        if train_from_scratch==False:\n",
        "            self.restore_model()\n",
        "        \n",
        "        # Initialize best loss. This variable will store the lowest loss on the\n",
        "        # eval dataset.\n",
        "        best_loss = 999\n",
        "        \n",
        "        # Initialize classes to update the mean loss of train and eval\n",
        "        train_loss = tf.keras.metrics.Mean('train_loss')\n",
        "        eval_loss = tf.keras.metrics.Mean('eval_loss')\n",
        "        acc_train = tf.keras.metrics.Mean('train_acc')\n",
        "        acc_val = tf.keras.metrics.Mean('val_acc')\n",
        "        \n",
        "        # Initialize dictionary to store the loss history\n",
        "        self.history = {}\n",
        "        self.history['train_loss'] = []\n",
        "        self.history['eval_loss'] = []\n",
        "        self.history['train_acc'] = []\n",
        "        self.history['val_acc'] = []\n",
        "        \n",
        "        # Begin training\n",
        "        with tf.device(self.device):\n",
        "            for i in range(num_epochs):\n",
        "                # Training with gradient descent\n",
        "                # training_data = training_data.shuffle(buffer_size=1024).batch(128)\n",
        "                for step, (images, target) in enumerate(training_data):\n",
        "                    grads = self.grads_fn(images, target, True)\n",
        "                    optimizer.apply_gradients(zip(grads, self.variables))\n",
        "                    \n",
        "                # Compute the loss on the training data after one epoch\n",
        "                for step, (images, target) in enumerate(training_data):\n",
        "                    loss = self.loss_fn(images, target, True)\n",
        "                    accuracy = self.compute_accuracy_2(images,target)\n",
        "                    acc_train(accuracy)\n",
        "                    train_loss(loss)\n",
        "                self.history['train_loss'].append(train_loss.result().numpy())\n",
        "                self.history['train_acc'].append(acc_train.result().numpy())\n",
        "                # Reset metrics\n",
        "                train_loss.reset_states()\n",
        "                acc_train.reset_states()\n",
        "                \n",
        "                # Compute the loss on the eval data after one epoch\n",
        "                for step, (images, target) in enumerate(eval_data):\n",
        "                    loss = self.loss_fn(images, target, True)\n",
        "                    accuracy = self.compute_accuracy_2(images,target)\n",
        "                    acc_val(accuracy)\n",
        "                    eval_loss(loss)\n",
        "                self.history['eval_loss'].append(eval_loss.result().numpy())\n",
        "                self.history['val_acc'].append(acc_val.result().numpy())\n",
        "                # Reset metrics\n",
        "                eval_loss.reset_states()\n",
        "                acc_val.reset_states()\n",
        "                \n",
        "                # Print train and eval losses\n",
        "                if (i==0) | ((i+1)%verbose==0):\n",
        "                    print('\\nTrain loss at epoch %d: ' %(i+1), self.history['train_loss'][-1])\n",
        "                    print('Train Acc at epoch %d: ' %(i+1), self.history['train_acc'][-1])\n",
        "                    plt.plot(i + 1, self.history['train_loss'][-1], linestyle = '-', marker = 'o', color = 'b', label = 'loss')\n",
        "                    plt.plot(i + 1, self.history['train_acc'][-1], linestyle = '-', marker = 'o', color = 'r', label = 'accuracy')\n",
        "                    \n",
        "                    print('Eval loss at epoch %d: ' %(i+1), self.history['eval_loss'][-1])\n",
        "                    print('Eval Acc at epoch %d: ' %(i+1), self.history['val_acc'][-1])\n",
        "                    \n",
        "\n",
        "                # Check for early stopping\n",
        "                if self.history['eval_loss'][-1]<best_loss:\n",
        "                    best_loss = self.history['eval_loss'][-1]\n",
        "                    count = early_stopping_rounds\n",
        "                else:\n",
        "                    count -= 1\n",
        "                if count==0:\n",
        "                    break\n",
        "\n",
        "            plt.show()    "
      ],
      "metadata": {
        "id": "_yFtDBO-6ItC"
      },
      "execution_count": 117,
      "outputs": []
    },
    {
      "cell_type": "code",
      "source": [
        "# Specify the path where you want to save/restore the trained variables.\n",
        "checkpoint_directory = 'models_checkpoints/mnist/'\n",
        "\n",
        "# Use the GPU if available.\n",
        "device = 'gpu:0'\n",
        "\n",
        "# Define optimizer.\n",
        "optimizer = tf.compat.v1.train.AdamOptimizer(learning_rate=1e-4)\n",
        "\n",
        "# Instantiate model. This doesn't initialize the variables yet.\n",
        "model = ImageRecognitionCNN(num_classes=10, device=device, \n",
        "                              checkpoint_directory=checkpoint_directory)\n",
        "\n",
        "#model = ImageRecognitionCNN(num_classes=7, device=device)"
      ],
      "metadata": {
        "id": "Zsl3gKmA8h50"
      },
      "execution_count": 118,
      "outputs": []
    },
    {
      "cell_type": "code",
      "source": [
        "# Train model\n",
        "isittraining =True\n",
        "model.fit_fc(train_dataset, val_dataset, optimizer, num_epochs=20, \n",
        "          early_stopping_rounds=2, verbose=2, train_from_scratch=True)"
      ],
      "metadata": {
        "id": "7cZDfw4S_Ujy",
        "outputId": "0c6decb3-be9a-491b-b0cf-b1e17980127d",
        "colab": {
          "base_uri": "https://localhost:8080/",
          "height": 1000
        }
      },
      "execution_count": 119,
      "outputs": [
        {
          "output_type": "stream",
          "name": "stdout",
          "text": [
            "\n",
            "Train loss at epoch 1:  1.1271201\n",
            "Train Acc at epoch 1:  0.94198513\n",
            "Eval loss at epoch 1:  1.1085813\n",
            "Eval Acc at epoch 1:  0.9409334\n",
            "\n",
            "Train loss at epoch 2:  0.42864805\n",
            "Train Acc at epoch 2:  0.94976026\n",
            "Eval loss at epoch 2:  0.41402125\n",
            "Eval Acc at epoch 2:  0.9557282\n",
            "\n",
            "Train loss at epoch 4:  0.12206879\n",
            "Train Acc at epoch 4:  0.9667956\n",
            "Eval loss at epoch 4:  0.12097558\n",
            "Eval Acc at epoch 4:  0.96922475\n",
            "\n",
            "Train loss at epoch 6:  0.06026304\n",
            "Train Acc at epoch 6:  0.974683\n",
            "Eval loss at epoch 6:  0.06771097\n",
            "Eval Acc at epoch 6:  0.9760491\n",
            "\n",
            "Train loss at epoch 8:  0.035622973\n",
            "Train Acc at epoch 8:  0.9794243\n",
            "Eval loss at epoch 8:  0.04969321\n",
            "Eval Acc at epoch 8:  0.9803749\n",
            "\n",
            "Train loss at epoch 10:  0.023275735\n",
            "Train Acc at epoch 10:  0.98272675\n",
            "Eval loss at epoch 10:  0.04057456\n",
            "Eval Acc at epoch 10:  0.9834053\n",
            "\n",
            "Train loss at epoch 12:  0.014602627\n",
            "Train Acc at epoch 12:  0.9851246\n",
            "Eval loss at epoch 12:  0.036435124\n",
            "Eval Acc at epoch 12:  0.98564225\n",
            "\n",
            "Train loss at epoch 14:  0.009430645\n",
            "Train Acc at epoch 14:  0.986971\n",
            "Eval loss at epoch 14:  0.03487551\n",
            "Eval Acc at epoch 14:  0.9873645\n",
            "\n",
            "Train loss at epoch 16:  0.005930452\n",
            "Train Acc at epoch 16:  0.98840886\n",
            "Eval loss at epoch 16:  0.033773985\n",
            "Eval Acc at epoch 16:  0.9887165\n",
            "\n",
            "Train loss at epoch 18:  0.0039288546\n",
            "Train Acc at epoch 18:  0.9895382\n",
            "Eval loss at epoch 18:  0.033892427\n",
            "Eval Acc at epoch 18:  0.98978114\n"
          ]
        },
        {
          "output_type": "display_data",
          "data": {
            "text/plain": [
              "<Figure size 432x288 with 1 Axes>"
            ],
            "image/png": "[encoded data removed]"
          },
          "metadata": {
            "needs_background": "light"
          }
        }
      ]
    },
    {
      "cell_type": "code",
      "source": [
        "isittraining = False\n",
        "test_acc = []\n",
        "testacc = tf.keras.metrics.Mean('test_acc')\n",
        "for step, (images, target) in enumerate(test_dataset):\n",
        "  loss = model.loss_fn(images, target, isittraining)\n",
        "  accuracy = model.compute_accuracy_2(images,target)\n",
        "  testacc(accuracy)\n",
        "  test_acc.append(testacc.result().numpy())\n",
        "\n",
        "  testacc.reset_states()\n",
        "print(np.mean(test_acc))"
      ],
      "metadata": {
        "id": "8rzZThm98ptm",
        "outputId": "3e77d7e7-5c71-447a-8415-fecdc1e3bd27",
        "colab": {
          "base_uri": "https://localhost:8080/"
        }
      },
      "execution_count": 95,
      "outputs": [
        {
          "output_type": "stream",
          "name": "stdout",
          "text": [
            "0.9889492\n"
          ]
        }
      ]
    },
    {
      "cell_type": "code",
      "source": [
        "loss_train = model.history['train_loss']\n",
        "loss_val = model.history['eval_loss']\n",
        "epochs = range(len(model.history['eval_loss']))\n",
        "plt.plot(epochs, loss_train, 'g', label='train_loss')\n",
        "plt.plot(epochs, loss_val, 'b', label='validation loss')\n",
        "plt.title('Training and Validation loss')\n",
        "plt.xlabel('Epochs')\n",
        "plt.ylabel('Loss')\n",
        "plt.legend()\n",
        "plt.show()"
      ],
      "metadata": {
        "id": "QofIsWqk8sqi",
        "outputId": "1d0c6474-78c5-4d46-a9ea-8a544b4605b4",
        "colab": {
          "base_uri": "https://localhost:8080/",
          "height": 295
        }
      },
      "execution_count": 96,
      "outputs": [
        {
          "output_type": "display_data",
          "data": {
            "text/plain": [
              "<Figure size 432x288 with 1 Axes>"
            ],
            "image/png": "[encoded data removed]"
          },
          "metadata": {
            "needs_background": "light"
          }
        }
      ]
    },
    {
      "cell_type": "markdown",
      "source": [
        "**Running the model for the second time**\n"
      ],
      "metadata": {
        "id": "HD18qxHwBO_5"
      }
    },
    {
      "cell_type": "code",
      "source": [
        "# Train model\n",
        "isittraining =True\n",
        "model.fit_fc(train_dataset, val_dataset, optimizer, num_epochs=15, \n",
        "          early_stopping_rounds=2, verbose=2, train_from_scratch=True)"
      ],
      "metadata": {
        "id": "VwYyRuo3BS5s",
        "outputId": "f48408f8-1b6a-4611-b0a6-1d8666b57ba8",
        "colab": {
          "base_uri": "https://localhost:8080/",
          "height": 605
        }
      },
      "execution_count": 103,
      "outputs": [
        {
          "output_type": "stream",
          "name": "stdout",
          "text": [
            "\n",
            "Train loss at epoch 1:  0.00059185\n",
            "Train Acc at epoch 1:  0.992843\n",
            "Eval loss at epoch 1:  0.03222122\n",
            "Eval Acc at epoch 1:  0.99295026\n",
            "\n",
            "Train loss at epoch 2:  0.0028078943\n",
            "Train Acc at epoch 2:  0.9930437\n",
            "Eval loss at epoch 2:  0.03427229\n",
            "Eval Acc at epoch 2:  0.9931401\n",
            "\n",
            "Train loss at epoch 4:  0.00055448693\n",
            "Train Acc at epoch 4:  0.9934173\n",
            "Eval loss at epoch 4:  0.02889108\n",
            "Eval Acc at epoch 4:  0.99350816\n",
            "\n",
            "Train loss at epoch 6:  0.00035511464\n",
            "Train Acc at epoch 6:  0.993758\n",
            "Eval loss at epoch 6:  0.029287824\n",
            "Eval Acc at epoch 6:  0.9938379\n"
          ]
        },
        {
          "output_type": "display_data",
          "data": {
            "text/plain": [
              "<Figure size 432x288 with 1 Axes>"
            ],
            "image/png": "[encoded data removed]"
          },
          "metadata": {
            "needs_background": "light"
          }
        }
      ]
    },
    {
      "cell_type": "code",
      "source": [
        "isittraining = False\n",
        "test_acc = []\n",
        "testacc = tf.keras.metrics.Mean('test_acc')\n",
        "for step, (images, target) in enumerate(test_dataset):\n",
        "  loss = model.loss_fn(images, target, isittraining)\n",
        "  accuracy = model.compute_accuracy_2(images,target)\n",
        "  testacc(accuracy)\n",
        "  test_acc.append(testacc.result().numpy())\n",
        "\n",
        "  testacc.reset_states()\n",
        "print(np.mean(test_acc))"
      ],
      "metadata": {
        "id": "cEnJsJbTBk_6",
        "outputId": "f7397b6c-95d0-4aa8-f670-f5f34cfb6fc8",
        "colab": {
          "base_uri": "https://localhost:8080/"
        }
      },
      "execution_count": 98,
      "outputs": [
        {
          "output_type": "stream",
          "name": "stdout",
          "text": [
            "0.99195474\n"
          ]
        }
      ]
    },
    {
      "cell_type": "code",
      "source": [
        "loss_train = model.history['train_loss']\n",
        "loss_val = model.history['eval_loss']\n",
        "epochs = range(len(model.history['eval_loss']))\n",
        "plt.plot(epochs, loss_train, 'g', label='train_loss')\n",
        "plt.plot(epochs, loss_val, 'b', label='validation loss')\n",
        "plt.title('Training and Validation loss')\n",
        "plt.xlabel('Epochs')\n",
        "plt.ylabel('Loss')\n",
        "plt.legend()\n",
        "plt.show()"
      ],
      "metadata": {
        "id": "g88F0PK6BnsQ",
        "outputId": "af57f13b-cde1-4da5-c4de-001bc180e7e5",
        "colab": {
          "base_uri": "https://localhost:8080/",
          "height": 295
        }
      },
      "execution_count": 99,
      "outputs": [
        {
          "output_type": "display_data",
          "data": {
            "text/plain": [
              "<Figure size 432x288 with 1 Axes>"
            ],
            "image/png": "[encoded data removed]"
          },
          "metadata": {
            "needs_background": "light"
          }
        }
      ]
    },
    {
      "cell_type": "markdown",
      "source": [
        ""
      ],
      "metadata": {
        "id": "aww6NgD6B1dr"
      }
    },
    {
      "cell_type": "markdown",
      "source": [
        "Running the model for third time\n"
      ],
      "metadata": {
        "id": "_xYouBftB2nP"
      }
    },
    {
      "cell_type": "code",
      "source": [
        "# Train model\n",
        "isittraining =True\n",
        "model.fit_fc(train_dataset, val_dataset, optimizer, num_epochs=15, \n",
        "          early_stopping_rounds=2, verbose=2, train_from_scratch=True)"
      ],
      "metadata": {
        "id": "LtTfX_mfB6Nj",
        "outputId": "7097c454-2ec9-41e6-8fe4-96073c7dca91",
        "colab": {
          "base_uri": "https://localhost:8080/",
          "height": 435
        }
      },
      "execution_count": 100,
      "outputs": [
        {
          "output_type": "stream",
          "name": "stdout",
          "text": [
            "\n",
            "Train loss at epoch 1:  0.0010613758\n",
            "Train Acc at epoch 1:  0.99210876\n",
            "Eval loss at epoch 1:  0.03109356\n",
            "Eval Acc at epoch 1:  0.9922487\n",
            "\n",
            "Train loss at epoch 2:  0.00095269724\n",
            "Train Acc at epoch 2:  0.99237716\n",
            "Eval loss at epoch 2:  0.031557284\n",
            "Eval Acc at epoch 2:  0.9925056\n"
          ]
        },
        {
          "output_type": "display_data",
          "data": {
            "text/plain": [
              "<Figure size 432x288 with 1 Axes>"
            ],
            "image/png": "[encoded data removed]"
          },
          "metadata": {
            "needs_background": "light"
          }
        }
      ]
    },
    {
      "cell_type": "code",
      "source": [
        "isittraining = False\n",
        "test_acc = []\n",
        "testacc = tf.keras.metrics.Mean('test_acc')\n",
        "for step, (images, target) in enumerate(test_dataset):\n",
        "  loss = model.loss_fn(images, target, isittraining)\n",
        "  accuracy = model.compute_accuracy_2(images,target)\n",
        "  testacc(accuracy)\n",
        "  test_acc.append(testacc.result().numpy())\n",
        "\n",
        "  testacc.reset_states()\n",
        "print(np.mean(test_acc))"
      ],
      "metadata": {
        "id": "fGoWT1WFB9_S",
        "outputId": "d938f8f0-e288-44ad-f39f-caf5a39c7e9b",
        "colab": {
          "base_uri": "https://localhost:8080/"
        }
      },
      "execution_count": 101,
      "outputs": [
        {
          "output_type": "stream",
          "name": "stdout",
          "text": [
            "0.992724\n"
          ]
        }
      ]
    },
    {
      "cell_type": "code",
      "source": [
        "loss_train = model.history['train_loss']\n",
        "loss_val = model.history['eval_loss']\n",
        "epochs = range(len(model.history['eval_loss']))\n",
        "plt.plot(epochs, loss_train, 'g', label='train_loss')\n",
        "plt.plot(epochs, loss_val, 'b', label='validation loss')\n",
        "plt.title('Training and Validation loss')\n",
        "plt.xlabel('Epochs')\n",
        "plt.ylabel('Loss')\n",
        "plt.legend()\n",
        "plt.show()"
      ],
      "metadata": {
        "id": "RGZKwZxOB_rf",
        "outputId": "c9fcc4af-246a-4716-e156-a62d16bef775",
        "colab": {
          "base_uri": "https://localhost:8080/",
          "height": 295
        }
      },
      "execution_count": 102,
      "outputs": [
        {
          "output_type": "display_data",
          "data": {
            "text/plain": [
              "<Figure size 432x288 with 1 Axes>"
            ],
            "image/png": "[encoded data removed]"
          },
          "metadata": {
            "needs_background": "light"
          }
        }
      ]
    }
  ]
}